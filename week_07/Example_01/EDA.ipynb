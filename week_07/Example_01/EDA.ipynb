{
 "cells": [
  {
   "cell_type": "markdown",
   "metadata": {
    "id": "0I4pgzLVtBTP",
    "tags": []
   },
   "source": [
    "# 1.0 An end-to-end classification problem (Part I)\n",
    "\n"
   ]
  },
  {
   "cell_type": "markdown",
   "metadata": {
    "id": "Dh34gim6KPtT",
    "tags": []
   },
   "source": [
    "## 1.1 Dataset description"
   ]
  },
  {
   "cell_type": "markdown",
   "metadata": {
    "id": "iE8OJoDZ5AFK"
   },
   "source": [
    "\n",
    "\n",
    "We'll be looking at individual income in the United States. The **data** is from the **1994 census**, and contains information on an individual's **marital status**, **age**, **type of work**, and more. The **target column**, or what we want to predict, is whether individuals make less than or equal to 50k a year, or more than **50k a year**.\n",
    "\n",
    "You can download the data from the [University of California, Irvine's website](http://archive.ics.uci.edu/ml/datasets/Adult).\n",
    "\n",
    "Let's take the following steps:\n",
    "\n",
    "1. Load Libraries\n",
    "2. Fetch Data, including EDA\n",
    "3. Pre-procesing\n",
    "4. Data Segregation\n",
    "\n",
    "<center><img width=\"600\" src=\"https://drive.google.com/uc?export=view&id=1a-nyAPNPiVh-Xb2Pu2t2p-BhSvHJS0pO\"></center>"
   ]
  },
  {
   "cell_type": "markdown",
   "metadata": {
    "id": "7UpxKxU1Ej7f"
   },
   "source": [
    "## 1.2 Load libraries"
   ]
  },
  {
   "cell_type": "code",
   "execution_count": null,
   "metadata": {
    "colab": {
     "base_uri": "https://localhost:8080/"
    },
    "id": "LASaVZuhRJlL",
    "outputId": "d1cea33d-bef5-46b8-cdf1-72f0358886ba"
   },
   "outputs": [],
   "source": [
    "import wandb\n",
    "import matplotlib.pyplot as plt\n",
    "import seaborn as sns\n",
    "import pandas as pd\n",
    "import numpy as np\n",
    "from pandas_profiling import ProfileReport\n",
    "from dataprep.eda import create_report,plot_diff\n",
    "from sklearn.model_selection import train_test_split\n",
    "import tempfile\n",
    "import os"
   ]
  },
  {
   "cell_type": "markdown",
   "metadata": {
    "id": "Z74pHa-qHVrT"
   },
   "source": [
    "## 1.3 Get data & Exploratory Data Analysis (EDA)"
   ]
  },
  {
   "cell_type": "markdown",
   "metadata": {
    "id": "MxzlOezZLWQ_"
   },
   "source": [
    "### 1.3.1 Create the raw_data artifact"
   ]
  },
  {
   "cell_type": "code",
   "execution_count": null,
   "metadata": {
    "colab": {
     "base_uri": "https://localhost:8080/",
     "height": 339
    },
    "id": "i_n2KZu0usUv",
    "outputId": "5b9f5ab0-1360-4cc2-8647-01b1573fa186"
   },
   "outputs": [],
   "source": [
    "# columns used \n",
    "columns = ['age', 'workclass', 'fnlwgt', 'education', 'education_num',\n",
    "           'marital_status', 'occupation', 'relationship', 'race', \n",
    "           'sex','capital_gain', 'capital_loss', 'hours_per_week',\n",
    "           'native_country','high_income']\n",
    "# importing the dataset\n",
    "income = pd.read_csv(\"https://archive.ics.uci.edu/ml/machine-learning-databases/adult/adult.data\",\n",
    "                   header=None,\n",
    "                   names=columns)\n",
    "income.head()"
   ]
  },
  {
   "cell_type": "code",
   "execution_count": null,
   "metadata": {
    "id": "j3Otnz1-UYre"
   },
   "outputs": [],
   "source": [
    "income.to_csv(\"raw_data.csv\",index=False)"
   ]
  },
  {
   "cell_type": "code",
   "execution_count": null,
   "metadata": {
    "colab": {
     "base_uri": "https://localhost:8080/"
    },
    "id": "WjWAwrIyTnKw",
    "outputId": "3432e080-aeff-45db-b81d-00b0709f72f4"
   },
   "outputs": [],
   "source": [
    "!wandb login --relogin"
   ]
  },
  {
   "cell_type": "code",
   "execution_count": null,
   "metadata": {
    "id": "l7lg2qtMUFGW"
   },
   "outputs": [],
   "source": [
    "# Send the raw_data.csv to the Wandb storing it as an artifact\n",
    "!wandb artifact put \\\n",
    "      --name week_07_eda/raw_data.csv \\\n",
    "      --type raw_data \\\n",
    "      --description \"The raw data from 1994 US Census\" raw_data.csv"
   ]
  },
  {
   "cell_type": "markdown",
   "metadata": {
    "id": "18RAS5kFXPAe"
   },
   "source": [
    "### 1.3.2 Download raw_data artifact from Wandb"
   ]
  },
  {
   "cell_type": "code",
   "execution_count": null,
   "metadata": {
    "colab": {
     "base_uri": "https://localhost:8080/",
     "height": 52
    },
    "id": "5kKY7pRNSGo9",
    "outputId": "9e8de087-86c4-433d-b424-c7b346b37fb8"
   },
   "outputs": [],
   "source": [
    "# save_code tracking all changes of the notebook and sync with Wandb\n",
    "run = wandb.init(project=\"week_07_eda\", save_code=True)"
   ]
  },
  {
   "cell_type": "code",
   "execution_count": null,
   "metadata": {
    "id": "H6eyFp6XTLyf"
   },
   "outputs": [],
   "source": [
    "# donwload the latest version of artifact raw_data.csv\n",
    "artifact = run.use_artifact(\"week_07_eda/raw_data.csv:latest\")\n",
    "\n",
    "# create a dataframe from the artifact\n",
    "df = pd.read_csv(artifact.file())"
   ]
  },
  {
   "cell_type": "code",
   "execution_count": null,
   "metadata": {
    "id": "SWMTKGEUYHeK"
   },
   "outputs": [],
   "source": [
    "df.head()"
   ]
  },
  {
   "cell_type": "code",
   "execution_count": null,
   "metadata": {
    "id": "4WkUfOnkYI5l"
   },
   "outputs": [],
   "source": [
    "df.info()"
   ]
  },
  {
   "cell_type": "code",
   "execution_count": null,
   "metadata": {
    "id": "0dVXWRhmGmOn"
   },
   "outputs": [],
   "source": [
    "df.describe()"
   ]
  },
  {
   "cell_type": "markdown",
   "metadata": {
    "id": "ZkQ2Xm9rHAb2"
   },
   "source": [
    "### 1.3.3 DataPrep"
   ]
  },
  {
   "cell_type": "code",
   "execution_count": null,
   "metadata": {
    "id": "6wh-m7zGAtKC"
   },
   "outputs": [],
   "source": [
    "create_report(df).show()"
   ]
  },
  {
   "cell_type": "markdown",
   "metadata": {
    "id": "PnBYLNwlBFrO"
   },
   "source": [
    "### 1.3.4 Pandas Profilling"
   ]
  },
  {
   "cell_type": "code",
   "execution_count": null,
   "metadata": {
    "id": "vGOWSZJoI-s_"
   },
   "outputs": [],
   "source": [
    "ProfileReport(df, title=\"Pandas Profiling Report\", explorative=True)"
   ]
  },
  {
   "cell_type": "code",
   "execution_count": null,
   "metadata": {
    "colab": {
     "base_uri": "https://localhost:8080/"
    },
    "id": "JN2R1QPW4ZJo",
    "outputId": "c77d40a4-6df7-49a0-cdb7-2d6a5a9cfc92"
   },
   "outputs": [],
   "source": [
    "# There are duplicated rows\n",
    "df.duplicated().sum()"
   ]
  },
  {
   "cell_type": "code",
   "execution_count": null,
   "metadata": {
    "colab": {
     "base_uri": "https://localhost:8080/"
    },
    "id": "5Qscf9h04gO_",
    "outputId": "e6d1b68a-6a12-49e5-95d0-e57b0793956a"
   },
   "outputs": [],
   "source": [
    "# Delete duplicated rows\n",
    "df.drop_duplicates(inplace=True)\n",
    "df.duplicated().sum()"
   ]
  },
  {
   "cell_type": "markdown",
   "metadata": {
    "id": "N3yBP7hxM0q1"
   },
   "source": [
    "\n",
    "### 1.3.5 EDA Manually"
   ]
  },
  {
   "cell_type": "code",
   "execution_count": null,
   "metadata": {
    "colab": {
     "base_uri": "https://localhost:8080/",
     "height": 175
    },
    "id": "yCPerUdKl-yz",
    "outputId": "5328658c-faf5-4755-b022-ea8d1f19221b"
   },
   "outputs": [],
   "source": [
    "# what the sex column can help us?\n",
    "pd.crosstab(df.high_income,df.sex,margins=True)"
   ]
  },
  {
   "cell_type": "code",
   "execution_count": null,
   "metadata": {
    "colab": {
     "base_uri": "https://localhost:8080/",
     "height": 254
    },
    "id": "Qrk81pTpUPi-",
    "outputId": "2e8bb994-ca52-4e5a-cc3f-6cccab3f5d01"
   },
   "outputs": [],
   "source": [
    "# income vs [sex & race]?\n",
    "pd.crosstab(df.high_income,[df.sex,df.race])"
   ]
  },
  {
   "cell_type": "code",
   "execution_count": null,
   "metadata": {
    "colab": {
     "base_uri": "https://localhost:8080/",
     "height": 297
    },
    "id": "WTcnUzDtW7pX",
    "outputId": "8cc1206c-04da-4e2e-8f3c-3fed91f569b1"
   },
   "outputs": [],
   "source": [
    "%matplotlib inline\n",
    "\n",
    "sns.catplot(x=\"sex\", \n",
    "            hue=\"race\", \n",
    "            col=\"high_income\",\n",
    "            data=df, kind=\"count\",\n",
    "            height=4, aspect=.7)\n",
    "plt.show()"
   ]
  },
  {
   "cell_type": "code",
   "execution_count": null,
   "metadata": {
    "colab": {
     "base_uri": "https://localhost:8080/",
     "height": 297
    },
    "id": "iiNAy2H2mOZT",
    "outputId": "6e76e4e1-fbb1-4d21-c298-6e13ab88b841"
   },
   "outputs": [],
   "source": [
    "g = sns.catplot(x=\"sex\", \n",
    "                hue=\"workclass\", \n",
    "                col=\"high_income\",\n",
    "                data=df, kind=\"count\",\n",
    "                height=4, aspect=.7)\n",
    "\n",
    "g.savefig(\"HighIncome_Sex_Workclass.png\", dpi=100)\n",
    "\n",
    "run.log(\n",
    "        {\n",
    "            \"High_Income vs Sex vs Workclass\": wandb.Image(\"HighIncome_Sex_Workclass.png\")\n",
    "        }\n",
    "    )"
   ]
  },
  {
   "cell_type": "code",
   "execution_count": null,
   "metadata": {
    "colab": {
     "base_uri": "https://localhost:8080/"
    },
    "id": "w_-oFseHmmBc",
    "outputId": "5470e1c3-7c07-428f-e932-70fe8682863c"
   },
   "outputs": [],
   "source": [
    "df.isnull().sum()"
   ]
  },
  {
   "cell_type": "markdown",
   "metadata": {
    "id": "GHkl3q4nc-WR"
   },
   "source": [
    "## 1.4 Train & Split"
   ]
  },
  {
   "cell_type": "code",
   "execution_count": null,
   "metadata": {
    "id": "TOPCj8qogWtv"
   },
   "outputs": [],
   "source": [
    "splits = {}\n",
    "splits[\"train\"], splits[\"test\"] = train_test_split(df,\n",
    "                                                   test_size=0.30,\n",
    "                                                   random_state=41,\n",
    "                                                   stratify=df[\"high_income\"])"
   ]
  },
  {
   "cell_type": "code",
   "execution_count": null,
   "metadata": {
    "id": "A7DFSqeqg62i"
   },
   "outputs": [],
   "source": [
    "# Save the artifacts. We use a temporary directory so we do not leave\n",
    "# any trace behind\n",
    "\n",
    "with tempfile.TemporaryDirectory() as tmp_dir:\n",
    "\n",
    "    for split, df in splits.items():\n",
    "\n",
    "        # Make the artifact name from the provided root plus the name of the split\n",
    "        artifact_name = f\"data_{split}.csv\"\n",
    "\n",
    "        # Get the path on disk within the temp directory\n",
    "        temp_path = os.path.join(tmp_dir, artifact_name)\n",
    "\n",
    "        # Save then upload to W&B\n",
    "        df.to_csv(temp_path,index=False)\n",
    "\n",
    "        artifact = wandb.Artifact(\n",
    "            name=artifact_name,\n",
    "            type=\"raw_data\",\n",
    "            description=f\"{split} split of dataset week_07_eda/raw_data.csv:latest\",\n",
    "        )\n",
    "        artifact.add_file(temp_path)\n",
    "\n",
    "        run.log_artifact(artifact)\n",
    "\n",
    "        # This waits for the artifact to be uploaded to W&B. If you\n",
    "        # do not add this, the temp directory might be removed before\n",
    "        # W&B had a chance to upload the datasets, and the upload\n",
    "        # might fail\n",
    "        artifact.wait()"
   ]
  },
  {
   "cell_type": "markdown",
   "metadata": {
    "id": "Hs9U_R2e1jhE"
   },
   "source": [
    "### 1.4.1 Donwload the train and test artifacts"
   ]
  },
  {
   "cell_type": "code",
   "execution_count": null,
   "metadata": {
    "id": "OyXZ2gi3jMat"
   },
   "outputs": [],
   "source": [
    "# donwload the latest version of artifacts data_test.csv and data_train.csv\n",
    "artifact_train = run.use_artifact(\"week_07_eda/data_train.csv:latest\")\n",
    "artifact_test = run.use_artifact(\"week_07_eda/data_test.csv:latest\")\n",
    "\n",
    "# create a dataframe from each artifact\n",
    "df_train = pd.read_csv(artifact_train.file())\n",
    "df_test  = pd.read_csv(artifact_test.file())"
   ]
  },
  {
   "cell_type": "code",
   "execution_count": null,
   "metadata": {
    "colab": {
     "base_uri": "https://localhost:8080/"
    },
    "id": "8xV7pjbh2NkL",
    "outputId": "ea946a9f-9499-43ba-e47d-98b351d7378e"
   },
   "outputs": [],
   "source": [
    "print(\"Train: {}\".format(df_train.shape))\n",
    "print(\"Test: {}\".format(df_test.shape))"
   ]
  },
  {
   "cell_type": "code",
   "execution_count": null,
   "metadata": {
    "colab": {
     "base_uri": "https://localhost:8080/",
     "height": 1000
    },
    "id": "lYnrc2vK5ojj",
    "outputId": "08f4a009-084d-47a1-8084-c89b9d69ebd4"
   },
   "outputs": [],
   "source": [
    "plot_diff([df_train,df_test])"
   ]
  },
  {
   "cell_type": "code",
   "execution_count": null,
   "metadata": {
    "colab": {
     "base_uri": "https://localhost:8080/",
     "height": 124,
     "referenced_widgets": [
      "47242977df7d488689b4ad4d4fbe1b28",
      "93fb2fd6a8114848a1365fbbe6f9d61e",
      "ef5f57c235044a2ba184cd48d6449661",
      "41d059a4311d47cb965911cb53f415a4",
      "4c64c9c08ef04501a6f331ffa8552e9d",
      "e34e65f451c343809bb4268283c3fb8f",
      "bf9dbd1134d74feabb1a40b2d41336fe",
      "fdb29471447d4230837b61a51168a76c"
     ]
    },
    "id": "fCyy4IweNZwC",
    "outputId": "bcf87849-2972-4bea-cc61-81ddfaef7b5b"
   },
   "outputs": [],
   "source": [
    "run.finish()"
   ]
  },
  {
   "cell_type": "code",
   "execution_count": null,
   "metadata": {
    "id": "-2uk1qkrelO3"
   },
   "outputs": [],
   "source": []
  }
 ],
 "metadata": {
  "colab": {
   "collapsed_sections": [],
   "name": "EDA_new.ipynb",
   "provenance": [],
   "toc_visible": true
  },
  "kernelspec": {
   "display_name": "Python 3 (ipykernel)",
   "language": "python",
   "name": "python3"
  },
  "language_info": {
   "codemirror_mode": {
    "name": "ipython",
    "version": 3
   },
   "file_extension": ".py",
   "mimetype": "text/x-python",
   "name": "python",
   "nbconvert_exporter": "python",
   "pygments_lexer": "ipython3",
   "version": "3.10.1"
  },
  "widgets": {
   "application/vnd.jupyter.widget-state+json": {
    "41d059a4311d47cb965911cb53f415a4": {
     "model_module": "@jupyter-widgets/controls",
     "model_module_version": "1.5.0",
     "model_name": "FloatProgressModel",
     "state": {
      "_dom_classes": [],
      "_model_module": "@jupyter-widgets/controls",
      "_model_module_version": "1.5.0",
      "_model_name": "FloatProgressModel",
      "_view_count": null,
      "_view_module": "@jupyter-widgets/controls",
      "_view_module_version": "1.5.0",
      "_view_name": "ProgressView",
      "bar_style": "",
      "description": "",
      "description_tooltip": null,
      "layout": "IPY_MODEL_fdb29471447d4230837b61a51168a76c",
      "max": 1,
      "min": 0,
      "orientation": "horizontal",
      "style": "IPY_MODEL_bf9dbd1134d74feabb1a40b2d41336fe",
      "value": 1
     }
    },
    "47242977df7d488689b4ad4d4fbe1b28": {
     "model_module": "@jupyter-widgets/controls",
     "model_module_version": "1.5.0",
     "model_name": "VBoxModel",
     "state": {
      "_dom_classes": [],
      "_model_module": "@jupyter-widgets/controls",
      "_model_module_version": "1.5.0",
      "_model_name": "VBoxModel",
      "_view_count": null,
      "_view_module": "@jupyter-widgets/controls",
      "_view_module_version": "1.5.0",
      "_view_name": "VBoxView",
      "box_style": "",
      "children": [
       "IPY_MODEL_ef5f57c235044a2ba184cd48d6449661",
       "IPY_MODEL_41d059a4311d47cb965911cb53f415a4"
      ],
      "layout": "IPY_MODEL_93fb2fd6a8114848a1365fbbe6f9d61e"
     }
    },
    "4c64c9c08ef04501a6f331ffa8552e9d": {
     "model_module": "@jupyter-widgets/controls",
     "model_module_version": "1.5.0",
     "model_name": "DescriptionStyleModel",
     "state": {
      "_model_module": "@jupyter-widgets/controls",
      "_model_module_version": "1.5.0",
      "_model_name": "DescriptionStyleModel",
      "_view_count": null,
      "_view_module": "@jupyter-widgets/base",
      "_view_module_version": "1.2.0",
      "_view_name": "StyleView",
      "description_width": ""
     }
    },
    "93fb2fd6a8114848a1365fbbe6f9d61e": {
     "model_module": "@jupyter-widgets/base",
     "model_module_version": "1.2.0",
     "model_name": "LayoutModel",
     "state": {
      "_model_module": "@jupyter-widgets/base",
      "_model_module_version": "1.2.0",
      "_model_name": "LayoutModel",
      "_view_count": null,
      "_view_module": "@jupyter-widgets/base",
      "_view_module_version": "1.2.0",
      "_view_name": "LayoutView",
      "align_content": null,
      "align_items": null,
      "align_self": null,
      "border": null,
      "bottom": null,
      "display": null,
      "flex": null,
      "flex_flow": null,
      "grid_area": null,
      "grid_auto_columns": null,
      "grid_auto_flow": null,
      "grid_auto_rows": null,
      "grid_column": null,
      "grid_gap": null,
      "grid_row": null,
      "grid_template_areas": null,
      "grid_template_columns": null,
      "grid_template_rows": null,
      "height": null,
      "justify_content": null,
      "justify_items": null,
      "left": null,
      "margin": null,
      "max_height": null,
      "max_width": null,
      "min_height": null,
      "min_width": null,
      "object_fit": null,
      "object_position": null,
      "order": null,
      "overflow": null,
      "overflow_x": null,
      "overflow_y": null,
      "padding": null,
      "right": null,
      "top": null,
      "visibility": null,
      "width": null
     }
    },
    "bf9dbd1134d74feabb1a40b2d41336fe": {
     "model_module": "@jupyter-widgets/controls",
     "model_module_version": "1.5.0",
     "model_name": "ProgressStyleModel",
     "state": {
      "_model_module": "@jupyter-widgets/controls",
      "_model_module_version": "1.5.0",
      "_model_name": "ProgressStyleModel",
      "_view_count": null,
      "_view_module": "@jupyter-widgets/base",
      "_view_module_version": "1.2.0",
      "_view_name": "StyleView",
      "bar_color": null,
      "description_width": ""
     }
    },
    "e34e65f451c343809bb4268283c3fb8f": {
     "model_module": "@jupyter-widgets/base",
     "model_module_version": "1.2.0",
     "model_name": "LayoutModel",
     "state": {
      "_model_module": "@jupyter-widgets/base",
      "_model_module_version": "1.2.0",
      "_model_name": "LayoutModel",
      "_view_count": null,
      "_view_module": "@jupyter-widgets/base",
      "_view_module_version": "1.2.0",
      "_view_name": "LayoutView",
      "align_content": null,
      "align_items": null,
      "align_self": null,
      "border": null,
      "bottom": null,
      "display": null,
      "flex": null,
      "flex_flow": null,
      "grid_area": null,
      "grid_auto_columns": null,
      "grid_auto_flow": null,
      "grid_auto_rows": null,
      "grid_column": null,
      "grid_gap": null,
      "grid_row": null,
      "grid_template_areas": null,
      "grid_template_columns": null,
      "grid_template_rows": null,
      "height": null,
      "justify_content": null,
      "justify_items": null,
      "left": null,
      "margin": null,
      "max_height": null,
      "max_width": null,
      "min_height": null,
      "min_width": null,
      "object_fit": null,
      "object_position": null,
      "order": null,
      "overflow": null,
      "overflow_x": null,
      "overflow_y": null,
      "padding": null,
      "right": null,
      "top": null,
      "visibility": null,
      "width": null
     }
    },
    "ef5f57c235044a2ba184cd48d6449661": {
     "model_module": "@jupyter-widgets/controls",
     "model_module_version": "1.5.0",
     "model_name": "LabelModel",
     "state": {
      "_dom_classes": [],
      "_model_module": "@jupyter-widgets/controls",
      "_model_module_version": "1.5.0",
      "_model_name": "LabelModel",
      "_view_count": null,
      "_view_module": "@jupyter-widgets/controls",
      "_view_module_version": "1.5.0",
      "_view_name": "LabelView",
      "description": "",
      "description_tooltip": null,
      "layout": "IPY_MODEL_e34e65f451c343809bb4268283c3fb8f",
      "placeholder": "​",
      "style": "IPY_MODEL_4c64c9c08ef04501a6f331ffa8552e9d",
      "value": " 28.41MB of 28.41MB uploaded (0.00MB deduped)\r"
     }
    },
    "fdb29471447d4230837b61a51168a76c": {
     "model_module": "@jupyter-widgets/base",
     "model_module_version": "1.2.0",
     "model_name": "LayoutModel",
     "state": {
      "_model_module": "@jupyter-widgets/base",
      "_model_module_version": "1.2.0",
      "_model_name": "LayoutModel",
      "_view_count": null,
      "_view_module": "@jupyter-widgets/base",
      "_view_module_version": "1.2.0",
      "_view_name": "LayoutView",
      "align_content": null,
      "align_items": null,
      "align_self": null,
      "border": null,
      "bottom": null,
      "display": null,
      "flex": null,
      "flex_flow": null,
      "grid_area": null,
      "grid_auto_columns": null,
      "grid_auto_flow": null,
      "grid_auto_rows": null,
      "grid_column": null,
      "grid_gap": null,
      "grid_row": null,
      "grid_template_areas": null,
      "grid_template_columns": null,
      "grid_template_rows": null,
      "height": null,
      "justify_content": null,
      "justify_items": null,
      "left": null,
      "margin": null,
      "max_height": null,
      "max_width": null,
      "min_height": null,
      "min_width": null,
      "object_fit": null,
      "object_position": null,
      "order": null,
      "overflow": null,
      "overflow_x": null,
      "overflow_y": null,
      "padding": null,
      "right": null,
      "top": null,
      "visibility": null,
      "width": null
     }
    }
   }
  }
 },
 "nbformat": 4,
 "nbformat_minor": 4
}
